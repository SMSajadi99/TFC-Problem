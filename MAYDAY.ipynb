{
 "cells": [
  {
   "cell_type": "markdown",
   "metadata": {},
   "source": [
    "We are sinking! The nearest ship got our SOS call, but they replied in pure gobbledygook! Are ye savvy enough to decode the message, or will we be sleepin' with the fish tonight? All hands on deck!\n",
    "\n",
    "Whiskey Hotel Four Tango Dash Alpha Romeo Three Dash Yankee Oscar Uniform Dash Sierra One November Kilo India November Golf Dash Four Bravo Zero Uniform Seven\n",
    "\n",
    "Flag format: TFCCTF{RESUL7-H3R3}"
   ]
  },
  {
   "cell_type": "code",
   "execution_count": 3,
   "metadata": {},
   "outputs": [
    {
     "name": "stdout",
     "output_type": "stream",
     "text": [
      "TFCCTF{WH4T-AR3-YOU-S1NKING-4BZU7}\n"
     ]
    }
   ],
   "source": [
    "###############################  METHOD 1 ###############################\n",
    "input_string = \"Whiskey Hotel Four Tango Dash Alpha Romeo Three Dash Yankee Oscar Uniform Dash Sierra One November Kilo India November Golf Dash Four Bravo Zero Uniform Seven\"\n",
    "\n",
    "input_string_splite = input_string.split(' ')\n",
    "\n",
    "map_name = {\n",
    "    'One': '1',\n",
    "    'Two': '2',\n",
    "    'Three': '3',\n",
    "    'Four': '4',\n",
    "    'Five': '5',\n",
    "    'Six': '6',\n",
    "    'Seven': '7',\n",
    "    'Eight': '8',\n",
    "    'Nine': '9',\n",
    "    'Dash': '-',\n",
    "}\n",
    "\n",
    "list_results = []\n",
    "for i in input_string_splite:\n",
    "    if i in map_name:\n",
    "        list_results.append(map_name[i])\n",
    "    else:\n",
    "        list_results.append(i[0])\n",
    "# list_results = [map_name[i] if i in map_name else i[0] for i in input_string.split(' ')]\n",
    "\n",
    "\n",
    "list_results = ''.join(list_results)\n",
    "print(f\"TFCCTF{{{list_results}}}\")\n",
    "    "
   ]
  }
 ],
 "metadata": {
  "kernelspec": {
   "display_name": "Python 3",
   "language": "python",
   "name": "python3"
  },
  "language_info": {
   "codemirror_mode": {
    "name": "ipython",
    "version": 3
   },
   "file_extension": ".py",
   "mimetype": "text/x-python",
   "name": "python",
   "nbconvert_exporter": "python",
   "pygments_lexer": "ipython3",
   "version": "3.10.11"
  },
  "orig_nbformat": 4
 },
 "nbformat": 4,
 "nbformat_minor": 2
}
