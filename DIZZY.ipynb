{
 "cells": [
  {
   "cell_type": "markdown",
   "metadata": {},
   "source": [
    "Embark on 'Dizzy', a carousel ride through cryptography! This warmup challenge spins you around the basics of ciphers and keys. Sharpen your mind, find the flag, and remember - in crypto, it's fun to get a little dizzy!\n",
    "\n",
    "''' T4 l16 _36 510 _27 s26 _11 320 414 {6 }39 C2 T0 m28 317 y35 d31 F1 m22 g19 d38 z34 423 l15 329 c12 ;37 19 h13 _30 F5 t7 C3 325 z33 _21 h8 n18 132 k24 '''"
   ]
  },
  {
   "cell_type": "code",
   "execution_count": 22,
   "metadata": {},
   "outputs": [
    {
     "data": {
      "text/plain": [
       "'TFCCTF{th15_ch4ll3ng3_m4k3s_m3_d1zzy_;d}'"
      ]
     },
     "execution_count": 22,
     "metadata": {},
     "output_type": "execute_result"
    }
   ],
   "source": [
    "###############################  METHOD 1 ###############################\n",
    "input_string = 'T4 l16 _36 510 _27 s26 _11 320 414 {6 }39 C2 T0 m28 317 y35 d31 F1 m22 g19 d38 z34 423 l15 329 c12 ;37 19 h13 _30 F5 t7 C3 325 z33 _21 h8 n18 132 k24'\n",
    "\n",
    "input_string_splite = input_string.split(' ')\n",
    "len_input_string_splite = len(input_string_splite)\n",
    "\n",
    "list_result =[None]*len_input_string_splite\n",
    "for i in range(len(input_string_splite)):\n",
    "    \n",
    "        list_result[int(input_string_splite[i][1:])] = input_string_splite[i][0]\n",
    "list_result = ''.join(list_result)\n",
    "list_result"
   ]
  },
  {
   "cell_type": "code",
   "execution_count": 24,
   "metadata": {},
   "outputs": [
    {
     "name": "stdout",
     "output_type": "stream",
     "text": [
      "TFCCTF{th15_ch4ll3ng3_m4k3s_m3_d1zzy_;d}\n"
     ]
    }
   ],
   "source": [
    "###############################  METHOD 2 ###############################\n",
    "input_string = 'T4 l16 _36 510 _27 s26 _11 320 414 {6 }39 C2 T0 m28 317 y35 d31 F1 m22 g19 d38 z34 423 l15 329 c12 ;37 19 h13 _30 F5 t7 C3 325 z33 _21 h8 n18 132 k24'\n",
    "\n",
    "# Split the input string by spaces\n",
    "input_string_split = input_string.split(' ')\n",
    "\n",
    "# Create a dictionary to store the character positions\n",
    "char_positions = {}\n",
    "for item in input_string_split:\n",
    "    char_positions[int(item[1:])] = item[0]\n",
    "\n",
    "# Sort the dictionary based on the keys\n",
    "sorted_char_positions = sorted(char_positions.items())\n",
    "\n",
    "# Extract the characters in sorted order\n",
    "list_result = ''.join([char for _, char in sorted_char_positions])\n",
    "print(list_result)\n",
    "\n"
   ]
  }
 ],
 "metadata": {
  "kernelspec": {
   "display_name": "Python 3",
   "language": "python",
   "name": "python3"
  },
  "language_info": {
   "codemirror_mode": {
    "name": "ipython",
    "version": 3
   },
   "file_extension": ".py",
   "mimetype": "text/x-python",
   "name": "python",
   "nbconvert_exporter": "python",
   "pygments_lexer": "ipython3",
   "version": "3.10.11"
  },
  "orig_nbformat": 4
 },
 "nbformat": 4,
 "nbformat_minor": 2
}
